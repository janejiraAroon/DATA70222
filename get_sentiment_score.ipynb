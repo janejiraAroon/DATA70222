{
  "cells": [
    {
      "cell_type": "code",
      "execution_count": null,
      "metadata": {
        "id": "Qco23xhfmLnE"
      },
      "outputs": [],
      "source": [
        "import pandas as pd\n",
        "import numpy as np\n",
        "import matplotlib.pyplot as plt\n",
        "import seaborn as sns\n",
        "from ast import literal_eval\n",
        "from tqdm import tqdm"
      ]
    },
    {
      "cell_type": "code",
      "execution_count": null,
      "metadata": {
        "id": "txxkq1-1mLnH"
      },
      "outputs": [],
      "source": [
        "def read_emb(path):\n",
        "    df = pd.read_csv(path)\n",
        "    return df"
      ]
    },
    {
      "cell_type": "code",
      "execution_count": null,
      "metadata": {
        "id": "aKYQGUR2mLnI"
      },
      "outputs": [],
      "source": [
        "PERMCO_LIST = [ 2381, 11937, 20064, 20253, 20333, 20440, 20678, 20868, 20972,\n",
        "       21322, 21401, 21576, 21771, 21795, 22113, 26024, 29122, 29139,\n",
        "       29634, 34829, 34920, 35222, 37900, 38393, 42001]"
      ]
    },
    {
      "cell_type": "code",
      "execution_count": null,
      "metadata": {
        "id": "f-zD7RY9mLnI"
      },
      "outputs": [],
      "source": [
        "def parse_list(string):\n",
        "    return [float(x.strip()) for x in string.strip('[]').split(',')]\n",
        "\n",
        "def split_train_test(df):\n",
        "    train = df.loc[df['datatype']=='train']\n",
        "    test = df.loc[df['datatype']=='test']\n",
        "\n",
        "    train['feature'] = train['feature'].apply(parse_list)\n",
        "    test['feature'] = test['feature'].apply(parse_list)\n",
        "\n",
        "    return train, test\n",
        "\n",
        "def split_train_test_sample(df):\n",
        "    df = df.sample(n=int(0.5 * df.shape[0]))\n",
        "    train = df.loc[df['datatype']=='train']\n",
        "    test = df.loc[df['datatype']=='test']\n",
        "\n",
        "    train['feature'] = train['feature'].apply(parse_list)\n",
        "    test['feature'] = test['feature'].apply(parse_list)\n",
        "\n",
        "    return train, test\n",
        "\n",
        "def get_data_for_model(train, test):\n",
        "    ## Get embedding as numpy\n",
        "    X_train = np.array(train['feature'].values.tolist())\n",
        "    X_test = np.array(test['feature'].values.tolist())\n",
        "\n",
        "    y_train = train['moving_prc_dir']\n",
        "    y_test = test['moving_prc_dir']\n",
        "\n",
        "    return X_train, X_test, y_train, y_test"
      ]
    },
    {
      "cell_type": "code",
      "execution_count": null,
      "metadata": {
        "id": "DwJj7KxPmLnJ"
      },
      "outputs": [],
      "source": [
        "from sklearn.linear_model import LinearRegression, LogisticRegression, Ridge\n",
        "from sklearn.metrics import accuracy_score, precision_score\n",
        "from sklearn.model_selection import GridSearchCV"
      ]
    },
    {
      "cell_type": "code",
      "execution_count": null,
      "metadata": {
        "id": "qr9Zd7P3mLnJ"
      },
      "outputs": [],
      "source": [
        "start_PERMCO_idx = 0\n",
        "end_PERMCO_idx = 24\n",
        "\n",
        "import time\n",
        "\n",
        "def train_and_get_sentiment_scores(df, model_option):\n",
        "    start_time = time.time()\n",
        "\n",
        "    results = []\n",
        "    scores = []\n",
        "    for PERMCO in tqdm(PERMCO_LIST[start_PERMCO_idx:end_PERMCO_idx+1]):\n",
        "        for y in range(2005, 2013):\n",
        "            df_iter = df.loc[(df['year'] == y) & (df['PERMCO'] == PERMCO)]\n",
        "\n",
        "            print('..splitting data')\n",
        "            train, test = split_train_test(df_iter)\n",
        "\n",
        "            print('..preparing data for model')\n",
        "            X_train, X_test, y_train, y_test = get_data_for_model(train, test)\n",
        "\n",
        "            parameters = [{'C':[0.001, 0.01, 0.1, 1]}]\n",
        "\n",
        "            ## Train the Model\n",
        "            print('..tuning hyperparameters and training')\n",
        "            lr_model = LogisticRegression(penalty='l2', max_iter=200,random_state=1234)\n",
        "            grid_search = GridSearchCV(estimator=lr_model,\n",
        "                                        param_grid=parameters,\n",
        "                                        scoring='accuracy',\n",
        "                                        cv=5)\n",
        "\n",
        "            grid_search.fit(X_train, y_train)\n",
        "\n",
        "            # Validate the model\n",
        "            print('..getting prediction')\n",
        "            predictions = grid_search.predict(X_test)\n",
        "            sentiment_score = grid_search.predict_proba(X_test)[:, 1]\n",
        "            accuracy = accuracy_score(y_test, predictions)\n",
        "            precision = precision_score(y_test, predictions)\n",
        "\n",
        "            test['sentiment_score'] = sentiment_score\n",
        "            test['prediction'] = predictions\n",
        "\n",
        "            scores.append(test)\n",
        "\n",
        "            results.append({\n",
        "                'PERMCO': PERMCO,\n",
        "                'start_year': y,\n",
        "                'model': model_option,\n",
        "                'accuracy': accuracy,\n",
        "                'precision': precision,\n",
        "                'best_param_C': grid_search.best_params_['C']\n",
        "            })\n",
        "    all_scores = pd.concat(scores, ignore_index=True)\n",
        "    all_scores.to_csv(f'./scores/scores_{model_option}.csv', index=False)\n",
        "\n",
        "    all_result = pd.DataFrame(results)\n",
        "    all_result.to_csv(f'./scores/results_{model_option}.csv', index=False)\n",
        "\n",
        "    print(all_result)\n",
        "\n",
        "    print(\"--- %s mins ---\" % ((time.time() - start_time)/60))"
      ]
    },
    {
      "cell_type": "code",
      "execution_count": null,
      "metadata": {
        "id": "-iaiqCvKmLnJ"
      },
      "outputs": [],
      "source": [
        "bert_emb = read_emb('./embeddings/embeddings_bert.csv')"
      ]
    },
    {
      "cell_type": "code",
      "execution_count": null,
      "metadata": {
        "colab": {
          "base_uri": "https://localhost:8080/"
        },
        "id": "NGHuFry_mLnK",
        "outputId": "9fccf54a-56cb-4df5-91c1-50886bf7d023"
      },
      "outputs": [],
      "source": [
        "train_and_get_sentiment_scores(bert_emb, 'bert')"
      ]
    },
    {
      "cell_type": "code",
      "execution_count": null,
      "metadata": {
        "id": "O2ylOMAe52gn"
      },
      "outputs": [],
      "source": [
        "bert_finetuned_emb = read_emb('./embeddings/embeddings_finetuned_bert_every3Y_wEarlyStopping.csv')"
      ]
    },
    {
      "cell_type": "code",
      "execution_count": null,
      "metadata": {
        "colab": {
          "base_uri": "https://localhost:8080/"
        },
        "id": "MMrKGY3D5-Yy",
        "outputId": "f8c64c39-24f4-4015-b1c2-6e0e8dc7815b"
      },
      "outputs": [],
      "source": [
        "train_and_get_sentiment_scores(bert_finetuned_emb, 'bert_finetuned')"
      ]
    },
    {
      "cell_type": "code",
      "execution_count": null,
      "metadata": {
        "id": "0bLmyHD9mLnL"
      },
      "outputs": [],
      "source": [
        "roberta_emb = read_emb('./embeddings/embeddings_roberta.csv')"
      ]
    },
    {
      "cell_type": "code",
      "execution_count": null,
      "metadata": {
        "colab": {
          "base_uri": "https://localhost:8080/"
        },
        "id": "kQSjfUd2mLnL",
        "outputId": "09ed3f69-21d5-458b-c908-f820b3658957"
      },
      "outputs": [],
      "source": [
        "train_and_get_sentiment_scores(roberta_emb, 'roberta')"
      ]
    },
    {
      "cell_type": "code",
      "execution_count": null,
      "metadata": {},
      "outputs": [],
      "source": [
        "roberta_finetuned_emb = read_emb('./embeddings/embeddings_finetuned_roberta_every3Y_wEarlyStopping.csv')"
      ]
    },
    {
      "cell_type": "code",
      "execution_count": null,
      "metadata": {},
      "outputs": [],
      "source": [
        "train_and_get_sentiment_scores(roberta_finetuned_emb, 'roberta_finetuned')"
      ]
    },
    {
      "cell_type": "code",
      "execution_count": null,
      "metadata": {
        "id": "nvvonPlWmLnL"
      },
      "outputs": [],
      "source": [
        "dBert_emb = read_emb('./embeddings/embeddings_distilbert.csv')"
      ]
    },
    {
      "cell_type": "code",
      "execution_count": null,
      "metadata": {
        "colab": {
          "base_uri": "https://localhost:8080/"
        },
        "id": "krr7tF4wmLnL",
        "outputId": "6a7cce28-78cf-49c6-f7ab-d74592aba3ac"
      },
      "outputs": [],
      "source": [
        "train_and_get_sentiment_scores(dBert_emb, 'distilbert')"
      ]
    },
    {
      "cell_type": "code",
      "execution_count": null,
      "metadata": {
        "id": "R26aKB638F2U"
      },
      "outputs": [],
      "source": [
        "dBert_finetuned_emb = read_emb('./embeddings/embeddings_finetuned_distilbert_every3Y_wEarlyStopping.csv')"
      ]
    },
    {
      "cell_type": "code",
      "execution_count": null,
      "metadata": {
        "colab": {
          "base_uri": "https://localhost:8080/"
        },
        "id": "Y5cB4Qus8QlR",
        "outputId": "6ab669ca-2551-4c0c-8cd0-ed7cb8680744"
      },
      "outputs": [],
      "source": [
        "train_and_get_sentiment_scores(dBert_finetuned_emb, 'distilbert_finetuned')"
      ]
    },
    {
      "cell_type": "code",
      "execution_count": null,
      "metadata": {
        "colab": {
          "base_uri": "https://localhost:8080/",
          "height": 287
        },
        "id": "XVBp96xumLnM",
        "outputId": "5158c924-0177-4dfe-fa63-f912f5c3ab71"
      },
      "outputs": [],
      "source": [
        "dRoberta_emb = read_emb('./embeddings/embeddings_distilroberta.csv')"
      ]
    },
    {
      "cell_type": "code",
      "execution_count": null,
      "metadata": {
        "colab": {
          "base_uri": "https://localhost:8080/"
        },
        "id": "fVGPciiamLnM",
        "outputId": "8381ad24-3c6e-451a-8441-8d7cb98c5d2c"
      },
      "outputs": [],
      "source": [
        "train_and_get_sentiment_scores(dRoberta_emb, 'distilroberta')"
      ]
    },
    {
      "cell_type": "code",
      "execution_count": null,
      "metadata": {
        "id": "dMK8xafm7yEZ"
      },
      "outputs": [],
      "source": [
        "dRoberta_finetuned_emb = read_emb('./embeddings/embeddings_finetuned_distilroberta_every3Y_wEarlyStopping.csv')"
      ]
    },
    {
      "cell_type": "code",
      "execution_count": null,
      "metadata": {
        "colab": {
          "base_uri": "https://localhost:8080/"
        },
        "id": "M-KmxqgQ722U",
        "outputId": "ee74b426-3ec8-4c3e-d571-0e29e244083b"
      },
      "outputs": [],
      "source": [
        "train_and_get_sentiment_scores(dRoberta_finetuned_emb, 'distilroberta_finetuned')"
      ]
    },
    {
      "cell_type": "code",
      "execution_count": null,
      "metadata": {
        "id": "zA48bkXmmLnM"
      },
      "outputs": [],
      "source": [
        "finbert_emb = read_emb('./embeddings/embeddings_finbert.csv')"
      ]
    },
    {
      "cell_type": "code",
      "execution_count": null,
      "metadata": {
        "colab": {
          "base_uri": "https://localhost:8080/"
        },
        "id": "k8fkR0V1YJEt",
        "outputId": "82255127-1225-40af-8736-328d430e5049"
      },
      "outputs": [],
      "source": [
        "train_and_get_sentiment_scores(finbert_emb, 'finbert')"
      ]
    },
    {
      "cell_type": "code",
      "execution_count": null,
      "metadata": {
        "id": "5poWhaK0YNgv"
      },
      "outputs": [],
      "source": [
        "finbert_finetuned_emb = read_emb('./embeddings/embeddings_finetuned_finbert_every3Y_wEarlyStopping.csv')"
      ]
    },
    {
      "cell_type": "code",
      "execution_count": null,
      "metadata": {
        "colab": {
          "base_uri": "https://localhost:8080/"
        },
        "id": "ZVu1ofOE60Sl",
        "outputId": "ccfdf1e3-cf32-45d6-c2f2-f5e5d8c526ae"
      },
      "outputs": [],
      "source": [
        "train_and_get_sentiment_scores(finbert_finetuned_emb, 'finbert_finetuned')"
      ]
    }
  ],
  "metadata": {
    "colab": {
      "machine_shape": "hm",
      "provenance": []
    },
    "kernelspec": {
      "display_name": "Python 3",
      "name": "python3"
    },
    "language_info": {
      "codemirror_mode": {
        "name": "ipython",
        "version": 3
      },
      "file_extension": ".py",
      "mimetype": "text/x-python",
      "name": "python",
      "nbconvert_exporter": "python",
      "pygments_lexer": "ipython3",
      "version": "3.11.9"
    }
  },
  "nbformat": 4,
  "nbformat_minor": 0
}
