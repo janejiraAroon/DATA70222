{
 "cells": [
  {
   "cell_type": "code",
   "execution_count": 1,
   "metadata": {},
   "outputs": [],
   "source": [
    "import pandas as pd\n",
    "import numpy as np\n",
    "import matplotlib.pyplot as plt\n",
    "import seaborn as sns"
   ]
  },
  {
   "cell_type": "markdown",
   "metadata": {},
   "source": [
    "# Import Data"
   ]
  },
  {
   "cell_type": "code",
   "execution_count": 30,
   "metadata": {},
   "outputs": [],
   "source": [
    "data_file_path = './test_period_top15_11Jun24_1546.csv'"
   ]
  },
  {
   "cell_type": "code",
   "execution_count": 31,
   "metadata": {},
   "outputs": [
    {
     "name": "stderr",
     "output_type": "stream",
     "text": [
      "C:\\Users\\User\\AppData\\Local\\Temp\\ipykernel_29632\\4047245904.py:1: DtypeWarning: Columns (9,22,24,49,57) have mixed types. Specify dtype option on import or set low_memory=False.\n",
      "  df = pd.read_csv(data_file_path)\n"
     ]
    },
    {
     "data": {
      "text/html": [
       "<div>\n",
       "<style scoped>\n",
       "    .dataframe tbody tr th:only-of-type {\n",
       "        vertical-align: middle;\n",
       "    }\n",
       "\n",
       "    .dataframe tbody tr th {\n",
       "        vertical-align: top;\n",
       "    }\n",
       "\n",
       "    .dataframe thead th {\n",
       "        text-align: right;\n",
       "    }\n",
       "</style>\n",
       "<table border=\"1\" class=\"dataframe\">\n",
       "  <thead>\n",
       "    <tr style=\"text-align: right;\">\n",
       "      <th></th>\n",
       "      <th>PERMNO</th>\n",
       "      <th>date</th>\n",
       "      <th>NAMEENDT</th>\n",
       "      <th>SHRCD</th>\n",
       "      <th>EXCHCD</th>\n",
       "      <th>SICCD</th>\n",
       "      <th>NCUSIP</th>\n",
       "      <th>TICKER</th>\n",
       "      <th>COMNAM</th>\n",
       "      <th>SHRCLS</th>\n",
       "      <th>...</th>\n",
       "      <th>CFACPR</th>\n",
       "      <th>CFACSHR</th>\n",
       "      <th>OPENPRC</th>\n",
       "      <th>NUMTRD</th>\n",
       "      <th>RETX</th>\n",
       "      <th>vwretd</th>\n",
       "      <th>vwretx</th>\n",
       "      <th>ewretd</th>\n",
       "      <th>ewretx</th>\n",
       "      <th>sprtrn</th>\n",
       "    </tr>\n",
       "  </thead>\n",
       "  <tbody>\n",
       "    <tr>\n",
       "      <th>0</th>\n",
       "      <td>76932</td>\n",
       "      <td>2016-01-04</td>\n",
       "      <td>NaN</td>\n",
       "      <td>12</td>\n",
       "      <td>1</td>\n",
       "      <td>4612</td>\n",
       "      <td>29250N10</td>\n",
       "      <td>ENB</td>\n",
       "      <td>ENBRIDGE INC</td>\n",
       "      <td>NaN</td>\n",
       "      <td>...</td>\n",
       "      <td>1.0</td>\n",
       "      <td>1.0</td>\n",
       "      <td>32.62</td>\n",
       "      <td>NaN</td>\n",
       "      <td>-0.008737</td>\n",
       "      <td>-0.014890</td>\n",
       "      <td>-0.015053</td>\n",
       "      <td>-0.012346</td>\n",
       "      <td>-0.012431</td>\n",
       "      <td>-0.015304</td>\n",
       "    </tr>\n",
       "    <tr>\n",
       "      <th>1</th>\n",
       "      <td>76932</td>\n",
       "      <td>2016-01-05</td>\n",
       "      <td>NaN</td>\n",
       "      <td>12</td>\n",
       "      <td>1</td>\n",
       "      <td>4612</td>\n",
       "      <td>29250N10</td>\n",
       "      <td>ENB</td>\n",
       "      <td>ENBRIDGE INC</td>\n",
       "      <td>NaN</td>\n",
       "      <td>...</td>\n",
       "      <td>1.0</td>\n",
       "      <td>1.0</td>\n",
       "      <td>32.74</td>\n",
       "      <td>NaN</td>\n",
       "      <td>-0.000304</td>\n",
       "      <td>0.001397</td>\n",
       "      <td>0.001394</td>\n",
       "      <td>0.000358</td>\n",
       "      <td>0.000335</td>\n",
       "      <td>0.002012</td>\n",
       "    </tr>\n",
       "    <tr>\n",
       "      <th>2</th>\n",
       "      <td>76932</td>\n",
       "      <td>2016-01-06</td>\n",
       "      <td>NaN</td>\n",
       "      <td>12</td>\n",
       "      <td>1</td>\n",
       "      <td>4612</td>\n",
       "      <td>29250N10</td>\n",
       "      <td>ENB</td>\n",
       "      <td>ENBRIDGE INC</td>\n",
       "      <td>NaN</td>\n",
       "      <td>...</td>\n",
       "      <td>1.0</td>\n",
       "      <td>1.0</td>\n",
       "      <td>32.08</td>\n",
       "      <td>NaN</td>\n",
       "      <td>-0.037093</td>\n",
       "      <td>-0.013799</td>\n",
       "      <td>-0.014067</td>\n",
       "      <td>-0.013461</td>\n",
       "      <td>-0.013512</td>\n",
       "      <td>-0.013115</td>\n",
       "    </tr>\n",
       "    <tr>\n",
       "      <th>3</th>\n",
       "      <td>76932</td>\n",
       "      <td>2016-01-07</td>\n",
       "      <td>NaN</td>\n",
       "      <td>12</td>\n",
       "      <td>1</td>\n",
       "      <td>4612</td>\n",
       "      <td>29250N10</td>\n",
       "      <td>ENB</td>\n",
       "      <td>ENBRIDGE INC</td>\n",
       "      <td>NaN</td>\n",
       "      <td>...</td>\n",
       "      <td>1.0</td>\n",
       "      <td>1.0</td>\n",
       "      <td>31.06</td>\n",
       "      <td>NaN</td>\n",
       "      <td>-0.021156</td>\n",
       "      <td>-0.023909</td>\n",
       "      <td>-0.023933</td>\n",
       "      <td>-0.024817</td>\n",
       "      <td>-0.024835</td>\n",
       "      <td>-0.023700</td>\n",
       "    </tr>\n",
       "    <tr>\n",
       "      <th>4</th>\n",
       "      <td>76932</td>\n",
       "      <td>2016-01-08</td>\n",
       "      <td>NaN</td>\n",
       "      <td>12</td>\n",
       "      <td>1</td>\n",
       "      <td>4612</td>\n",
       "      <td>29250N10</td>\n",
       "      <td>ENB</td>\n",
       "      <td>ENBRIDGE INC</td>\n",
       "      <td>NaN</td>\n",
       "      <td>...</td>\n",
       "      <td>1.0</td>\n",
       "      <td>1.0</td>\n",
       "      <td>31.05</td>\n",
       "      <td>NaN</td>\n",
       "      <td>0.022903</td>\n",
       "      <td>-0.010935</td>\n",
       "      <td>-0.010940</td>\n",
       "      <td>-0.010280</td>\n",
       "      <td>-0.010301</td>\n",
       "      <td>-0.010838</td>\n",
       "    </tr>\n",
       "  </tbody>\n",
       "</table>\n",
       "<p>5 rows × 63 columns</p>\n",
       "</div>"
      ],
      "text/plain": [
       "   PERMNO        date NAMEENDT  SHRCD  EXCHCD  SICCD    NCUSIP TICKER  \\\n",
       "0   76932  2016-01-04      NaN     12       1   4612  29250N10    ENB   \n",
       "1   76932  2016-01-05      NaN     12       1   4612  29250N10    ENB   \n",
       "2   76932  2016-01-06      NaN     12       1   4612  29250N10    ENB   \n",
       "3   76932  2016-01-07      NaN     12       1   4612  29250N10    ENB   \n",
       "4   76932  2016-01-08      NaN     12       1   4612  29250N10    ENB   \n",
       "\n",
       "         COMNAM SHRCLS  ... CFACPR  CFACSHR OPENPRC NUMTRD       RETX  \\\n",
       "0  ENBRIDGE INC    NaN  ...    1.0      1.0   32.62    NaN  -0.008737   \n",
       "1  ENBRIDGE INC    NaN  ...    1.0      1.0   32.74    NaN  -0.000304   \n",
       "2  ENBRIDGE INC    NaN  ...    1.0      1.0   32.08    NaN  -0.037093   \n",
       "3  ENBRIDGE INC    NaN  ...    1.0      1.0   31.06    NaN  -0.021156   \n",
       "4  ENBRIDGE INC    NaN  ...    1.0      1.0   31.05    NaN   0.022903   \n",
       "\n",
       "     vwretd    vwretx    ewretd    ewretx    sprtrn  \n",
       "0 -0.014890 -0.015053 -0.012346 -0.012431 -0.015304  \n",
       "1  0.001397  0.001394  0.000358  0.000335  0.002012  \n",
       "2 -0.013799 -0.014067 -0.013461 -0.013512 -0.013115  \n",
       "3 -0.023909 -0.023933 -0.024817 -0.024835 -0.023700  \n",
       "4 -0.010935 -0.010940 -0.010280 -0.010301 -0.010838  \n",
       "\n",
       "[5 rows x 63 columns]"
      ]
     },
     "execution_count": 31,
     "metadata": {},
     "output_type": "execute_result"
    }
   ],
   "source": [
    "df = pd.read_csv(data_file_path)\n",
    "df.head()"
   ]
  },
  {
   "cell_type": "code",
   "execution_count": 32,
   "metadata": {},
   "outputs": [
    {
     "data": {
      "text/plain": [
       "TRDSTAT\n",
       "A    50173\n",
       "Name: count, dtype: int64"
      ]
     },
     "execution_count": 32,
     "metadata": {},
     "output_type": "execute_result"
    }
   ],
   "source": [
    "## Check the trade status: Expect Active\n",
    "df['TRDSTAT'].value_counts()"
   ]
  },
  {
   "cell_type": "code",
   "execution_count": 33,
   "metadata": {},
   "outputs": [
    {
     "data": {
      "text/plain": [
       "25"
      ]
     },
     "execution_count": 33,
     "metadata": {},
     "output_type": "execute_result"
    }
   ],
   "source": [
    "## Check number of unique PERMCO\n",
    "len(df['PERMCO'].unique())"
   ]
  },
  {
   "cell_type": "code",
   "execution_count": 34,
   "metadata": {},
   "outputs": [
    {
     "data": {
      "text/plain": [
       "26"
      ]
     },
     "execution_count": 34,
     "metadata": {},
     "output_type": "execute_result"
    }
   ],
   "source": [
    "## Check number of unique CUSIP\n",
    "len(df['CUSIP'].unique())"
   ]
  },
  {
   "cell_type": "code",
   "execution_count": 35,
   "metadata": {},
   "outputs": [
    {
     "data": {
      "text/html": [
       "<div>\n",
       "<style scoped>\n",
       "    .dataframe tbody tr th:only-of-type {\n",
       "        vertical-align: middle;\n",
       "    }\n",
       "\n",
       "    .dataframe tbody tr th {\n",
       "        vertical-align: top;\n",
       "    }\n",
       "\n",
       "    .dataframe thead th {\n",
       "        text-align: right;\n",
       "    }\n",
       "</style>\n",
       "<table border=\"1\" class=\"dataframe\">\n",
       "  <thead>\n",
       "    <tr style=\"text-align: right;\">\n",
       "      <th></th>\n",
       "      <th>PERMCO</th>\n",
       "      <th>CUSIP</th>\n",
       "    </tr>\n",
       "  </thead>\n",
       "  <tbody>\n",
       "    <tr>\n",
       "      <th>1</th>\n",
       "      <td>11937</td>\n",
       "      <td>2</td>\n",
       "    </tr>\n",
       "  </tbody>\n",
       "</table>\n",
       "</div>"
      ],
      "text/plain": [
       "   PERMCO  CUSIP\n",
       "1   11937      2"
      ]
     },
     "execution_count": 35,
     "metadata": {},
     "output_type": "execute_result"
    }
   ],
   "source": [
    "## Identify duplicated PERMCO\n",
    "tmp = df[['PERMCO', 'CUSIP']].drop_duplicates().groupby('PERMCO').count().reset_index()\n",
    "tmp[tmp['CUSIP'] == 2]"
   ]
  },
  {
   "cell_type": "code",
   "execution_count": 36,
   "metadata": {},
   "outputs": [
    {
     "data": {
      "text/plain": [
       "Series([], Name: market_cap, dtype: float64)"
      ]
     },
     "execution_count": 36,
     "metadata": {},
     "output_type": "execute_result"
    }
   ],
   "source": [
    "## There are Share class A and B in the data, therefore class A will be select due to its higher market cap\n",
    "tmp = df[df['PERMCO'] == 47003][['CUSIP', 'TICKER', 'SHRCLS', 'PRC', 'SHROUT']].drop_duplicates()\n",
    "tmp['market_cap'] = tmp['PRC'] * tmp['SHROUT']\n",
    "tmp.groupby('SHRCLS')['market_cap'].mean()"
   ]
  },
  {
   "cell_type": "code",
   "execution_count": 37,
   "metadata": {},
   "outputs": [],
   "source": [
    "## Filter out Class B of PERMCO=47003\n",
    "df = df[(df['PERMCO']!=47003) | \n",
    "        ((df['PERMCO']==47003) & (df['SHRCLS']=='A'))]"
   ]
  },
  {
   "cell_type": "code",
   "execution_count": 38,
   "metadata": {},
   "outputs": [],
   "source": [
    "## Filter out negative prices\n",
    "df = df[df['PRC'] >= 0]"
   ]
  },
  {
   "cell_type": "code",
   "execution_count": 39,
   "metadata": {},
   "outputs": [],
   "source": [
    "## Clean data before calculation\n",
    "df = df.dropna(subset=['TICKER', 'RET'])\n",
    "df = df[df['RET'] != 'C']\n",
    "df['RET'] = df['RET'].astype(float)"
   ]
  },
  {
   "cell_type": "code",
   "execution_count": 40,
   "metadata": {},
   "outputs": [
    {
     "data": {
      "text/plain": [
       "Index(['PERMNO', 'date', 'NAMEENDT', 'SHRCD', 'EXCHCD', 'SICCD', 'NCUSIP',\n",
       "       'TICKER', 'COMNAM', 'SHRCLS', 'TSYMBOL', 'NAICS', 'PRIMEXCH', 'TRDSTAT',\n",
       "       'SECSTAT', 'PERMCO', 'ISSUNO', 'HEXCD', 'HSICCD', 'CUSIP', 'DCLRDT',\n",
       "       'DLAMT', 'DLPDT', 'DLSTCD', 'NEXTDT', 'PAYDT', 'RCRDDT', 'SHRFLG',\n",
       "       'HSICMG', 'HSICIG', 'DISTCD', 'DIVAMT', 'FACPR', 'FACSHR', 'ACPERM',\n",
       "       'ACCOMP', 'SHRENDDT', 'NWPERM', 'DLRETX', 'DLPRC', 'DLRET', 'TRTSCD',\n",
       "       'NMSIND', 'MMCNT', 'NSDINX', 'BIDLO', 'ASKHI', 'PRC', 'VOL', 'RET',\n",
       "       'BID', 'ASK', 'SHROUT', 'CFACPR', 'CFACSHR', 'OPENPRC', 'NUMTRD',\n",
       "       'RETX', 'vwretd', 'vwretx', 'ewretd', 'ewretx', 'sprtrn'],\n",
       "      dtype='object')"
      ]
     },
     "execution_count": 40,
     "metadata": {},
     "output_type": "execute_result"
    }
   ],
   "source": [
    "df.columns"
   ]
  },
  {
   "cell_type": "markdown",
   "metadata": {},
   "source": [
    "# Calculate Adjusted Price"
   ]
  },
  {
   "cell_type": "code",
   "execution_count": 41,
   "metadata": {},
   "outputs": [],
   "source": [
    "df['adjusted_prc'] = df['PRC'] / df['CFACPR']"
   ]
  },
  {
   "cell_type": "markdown",
   "metadata": {},
   "source": [
    "# Calculate Weekly Return"
   ]
  },
  {
   "cell_type": "code",
   "execution_count": 42,
   "metadata": {},
   "outputs": [],
   "source": [
    "## calulate the following friday\n",
    "df['date'] = pd.to_datetime(df['date'])\n",
    "df['fri_of_week'] = df['date'].dt.to_period('W-FRI').apply(lambda r: r.end_time).dt.date\n",
    "\n",
    "## Before doing this step, first manually ensure the first monday does in in the prev year\n",
    "df = df[(df['fri_of_week'].astype(str)>='2016-01-05') \n",
    "            & (df['fri_of_week'].astype(str)<='2023-12-31')]"
   ]
  },
  {
   "cell_type": "code",
   "execution_count": 44,
   "metadata": {},
   "outputs": [
    {
     "data": {
      "text/html": [
       "<div>\n",
       "<style scoped>\n",
       "    .dataframe tbody tr th:only-of-type {\n",
       "        vertical-align: middle;\n",
       "    }\n",
       "\n",
       "    .dataframe tbody tr th {\n",
       "        vertical-align: top;\n",
       "    }\n",
       "\n",
       "    .dataframe thead th {\n",
       "        text-align: right;\n",
       "    }\n",
       "</style>\n",
       "<table border=\"1\" class=\"dataframe\">\n",
       "  <thead>\n",
       "    <tr style=\"text-align: right;\">\n",
       "      <th></th>\n",
       "      <th>PERMCO</th>\n",
       "      <th>fri_of_week</th>\n",
       "      <th>sum_log_RET_plus1</th>\n",
       "      <th>TICKER</th>\n",
       "      <th>COMNAM</th>\n",
       "      <th>weekly_return</th>\n",
       "    </tr>\n",
       "  </thead>\n",
       "  <tbody>\n",
       "    <tr>\n",
       "      <th>0</th>\n",
       "      <td>2381</td>\n",
       "      <td>2016-01-08</td>\n",
       "      <td>-0.045616</td>\n",
       "      <td>ENB</td>\n",
       "      <td>ENBRIDGE INC</td>\n",
       "      <td>-4.459144</td>\n",
       "    </tr>\n",
       "    <tr>\n",
       "      <th>1</th>\n",
       "      <td>2381</td>\n",
       "      <td>2016-01-15</td>\n",
       "      <td>-0.045155</td>\n",
       "      <td>ENB</td>\n",
       "      <td>ENBRIDGE INC</td>\n",
       "      <td>-4.415097</td>\n",
       "    </tr>\n",
       "    <tr>\n",
       "      <th>2</th>\n",
       "      <td>2381</td>\n",
       "      <td>2016-01-22</td>\n",
       "      <td>0.098574</td>\n",
       "      <td>ENB</td>\n",
       "      <td>ENBRIDGE INC</td>\n",
       "      <td>10.359645</td>\n",
       "    </tr>\n",
       "    <tr>\n",
       "      <th>3</th>\n",
       "      <td>2381</td>\n",
       "      <td>2016-01-29</td>\n",
       "      <td>0.033804</td>\n",
       "      <td>ENB</td>\n",
       "      <td>ENBRIDGE INC</td>\n",
       "      <td>3.438143</td>\n",
       "    </tr>\n",
       "    <tr>\n",
       "      <th>4</th>\n",
       "      <td>2381</td>\n",
       "      <td>2016-02-05</td>\n",
       "      <td>-0.020734</td>\n",
       "      <td>ENB</td>\n",
       "      <td>ENBRIDGE INC</td>\n",
       "      <td>-2.052012</td>\n",
       "    </tr>\n",
       "  </tbody>\n",
       "</table>\n",
       "</div>"
      ],
      "text/plain": [
       "   PERMCO fri_of_week  sum_log_RET_plus1 TICKER        COMNAM  weekly_return\n",
       "0    2381  2016-01-08          -0.045616    ENB  ENBRIDGE INC      -4.459144\n",
       "1    2381  2016-01-15          -0.045155    ENB  ENBRIDGE INC      -4.415097\n",
       "2    2381  2016-01-22           0.098574    ENB  ENBRIDGE INC      10.359645\n",
       "3    2381  2016-01-29           0.033804    ENB  ENBRIDGE INC       3.438143\n",
       "4    2381  2016-02-05          -0.020734    ENB  ENBRIDGE INC      -2.052012"
      ]
     },
     "execution_count": 44,
     "metadata": {},
     "output_type": "execute_result"
    }
   ],
   "source": [
    "## Calculate weekly return\n",
    "df3 = df.copy()\n",
    "df3['log_RET_plus1'] = np.log(df3['RET'] + 1)\n",
    "df4 = df3.groupby(['PERMCO','fri_of_week']).agg({'log_RET_plus1': 'sum', \n",
    "                                                                     'TICKER': lambda x: list(set(x))[0], \n",
    "                                                                     'COMNAM': lambda x: list(set(x))[0]})\n",
    "df4 = df4.reset_index().rename(columns={'log_RET_plus1': 'sum_log_RET_plus1'})\n",
    "df4['weekly_return'] = (np.exp(df4['sum_log_RET_plus1']) - 1) * 100\n",
    "df4.head()"
   ]
  },
  {
   "cell_type": "code",
   "execution_count": 45,
   "metadata": {},
   "outputs": [
    {
     "data": {
      "text/plain": [
       "(10393, 6)"
      ]
     },
     "execution_count": 45,
     "metadata": {},
     "output_type": "execute_result"
    }
   ],
   "source": [
    "df4.shape"
   ]
  },
  {
   "cell_type": "code",
   "execution_count": 46,
   "metadata": {},
   "outputs": [
    {
     "data": {
      "text/html": [
       "<div>\n",
       "<style scoped>\n",
       "    .dataframe tbody tr th:only-of-type {\n",
       "        vertical-align: middle;\n",
       "    }\n",
       "\n",
       "    .dataframe tbody tr th {\n",
       "        vertical-align: top;\n",
       "    }\n",
       "\n",
       "    .dataframe thead th {\n",
       "        text-align: right;\n",
       "    }\n",
       "</style>\n",
       "<table border=\"1\" class=\"dataframe\">\n",
       "  <thead>\n",
       "    <tr style=\"text-align: right;\">\n",
       "      <th></th>\n",
       "      <th>fri_of_week</th>\n",
       "      <th>PERMCO</th>\n",
       "    </tr>\n",
       "  </thead>\n",
       "  <tbody>\n",
       "    <tr>\n",
       "      <th>0</th>\n",
       "      <td>385</td>\n",
       "      <td>1</td>\n",
       "    </tr>\n",
       "    <tr>\n",
       "      <th>1</th>\n",
       "      <td>417</td>\n",
       "      <td>24</td>\n",
       "    </tr>\n",
       "  </tbody>\n",
       "</table>\n",
       "</div>"
      ],
      "text/plain": [
       "   fri_of_week  PERMCO\n",
       "0          385       1\n",
       "1          417      24"
      ]
     },
     "execution_count": 46,
     "metadata": {},
     "output_type": "execute_result"
    }
   ],
   "source": [
    "## Check how many weeks each stock has\n",
    "df4.groupby('PERMCO')['fri_of_week'].count().reset_index().groupby('fri_of_week').count().reset_index()"
   ]
  },
  {
   "cell_type": "code",
   "execution_count": 47,
   "metadata": {},
   "outputs": [
    {
     "data": {
      "text/html": [
       "<div>\n",
       "<style scoped>\n",
       "    .dataframe tbody tr th:only-of-type {\n",
       "        vertical-align: middle;\n",
       "    }\n",
       "\n",
       "    .dataframe tbody tr th {\n",
       "        vertical-align: top;\n",
       "    }\n",
       "\n",
       "    .dataframe thead th {\n",
       "        text-align: right;\n",
       "    }\n",
       "</style>\n",
       "<table border=\"1\" class=\"dataframe\">\n",
       "  <thead>\n",
       "    <tr style=\"text-align: right;\">\n",
       "      <th></th>\n",
       "      <th>fri_of_week</th>\n",
       "      <th>PERMCO</th>\n",
       "    </tr>\n",
       "  </thead>\n",
       "  <tbody>\n",
       "    <tr>\n",
       "      <th>0</th>\n",
       "      <td>385</td>\n",
       "      <td>1</td>\n",
       "    </tr>\n",
       "    <tr>\n",
       "      <th>1</th>\n",
       "      <td>417</td>\n",
       "      <td>24</td>\n",
       "    </tr>\n",
       "  </tbody>\n",
       "</table>\n",
       "</div>"
      ],
      "text/plain": [
       "   fri_of_week  PERMCO\n",
       "0          385       1\n",
       "1          417      24"
      ]
     },
     "execution_count": 47,
     "metadata": {},
     "output_type": "execute_result"
    }
   ],
   "source": [
    "## Check how many weeks each stock has\n",
    "df4.groupby('PERMCO')['fri_of_week'].nunique().reset_index().groupby('fri_of_week').count().reset_index()"
   ]
  },
  {
   "cell_type": "code",
   "execution_count": 48,
   "metadata": {},
   "outputs": [],
   "source": [
    "df4_non_missing = df4.copy()"
   ]
  },
  {
   "cell_type": "code",
   "execution_count": 49,
   "metadata": {},
   "outputs": [
    {
     "name": "stdout",
     "output_type": "stream",
     "text": [
      "2016-01-08 2023-12-29\n"
     ]
    }
   ],
   "source": [
    "## Check the oldest and newest friday of week in the data\n",
    "print(df4_non_missing['fri_of_week'].min(), df4_non_missing['fri_of_week'].max())"
   ]
  },
  {
   "cell_type": "code",
   "execution_count": 50,
   "metadata": {},
   "outputs": [],
   "source": [
    "## Drop duplicated (PERMCO, fri-of-week) in which keeping the first row\n",
    "df4_non_missing = df4_non_missing.drop_duplicates(subset=['PERMCO', 'fri_of_week'])"
   ]
  },
  {
   "cell_type": "code",
   "execution_count": 51,
   "metadata": {},
   "outputs": [
    {
     "data": {
      "text/html": [
       "<div>\n",
       "<style scoped>\n",
       "    .dataframe tbody tr th:only-of-type {\n",
       "        vertical-align: middle;\n",
       "    }\n",
       "\n",
       "    .dataframe tbody tr th {\n",
       "        vertical-align: top;\n",
       "    }\n",
       "\n",
       "    .dataframe thead th {\n",
       "        text-align: right;\n",
       "    }\n",
       "</style>\n",
       "<table border=\"1\" class=\"dataframe\">\n",
       "  <thead>\n",
       "    <tr style=\"text-align: right;\">\n",
       "      <th></th>\n",
       "      <th>PERMCO</th>\n",
       "      <th>fri_of_week</th>\n",
       "      <th>sum_log_RET_plus1</th>\n",
       "      <th>TICKER</th>\n",
       "      <th>COMNAM</th>\n",
       "      <th>weekly_return</th>\n",
       "      <th>weekly_return_sign</th>\n",
       "    </tr>\n",
       "  </thead>\n",
       "  <tbody>\n",
       "    <tr>\n",
       "      <th>0</th>\n",
       "      <td>2381</td>\n",
       "      <td>2016-01-08</td>\n",
       "      <td>-0.045616</td>\n",
       "      <td>ENB</td>\n",
       "      <td>ENBRIDGE INC</td>\n",
       "      <td>-4.459144</td>\n",
       "      <td>neg</td>\n",
       "    </tr>\n",
       "    <tr>\n",
       "      <th>1</th>\n",
       "      <td>2381</td>\n",
       "      <td>2016-01-15</td>\n",
       "      <td>-0.045155</td>\n",
       "      <td>ENB</td>\n",
       "      <td>ENBRIDGE INC</td>\n",
       "      <td>-4.415097</td>\n",
       "      <td>neg</td>\n",
       "    </tr>\n",
       "    <tr>\n",
       "      <th>2</th>\n",
       "      <td>2381</td>\n",
       "      <td>2016-01-22</td>\n",
       "      <td>0.098574</td>\n",
       "      <td>ENB</td>\n",
       "      <td>ENBRIDGE INC</td>\n",
       "      <td>10.359645</td>\n",
       "      <td>pos</td>\n",
       "    </tr>\n",
       "    <tr>\n",
       "      <th>3</th>\n",
       "      <td>2381</td>\n",
       "      <td>2016-01-29</td>\n",
       "      <td>0.033804</td>\n",
       "      <td>ENB</td>\n",
       "      <td>ENBRIDGE INC</td>\n",
       "      <td>3.438143</td>\n",
       "      <td>pos</td>\n",
       "    </tr>\n",
       "    <tr>\n",
       "      <th>4</th>\n",
       "      <td>2381</td>\n",
       "      <td>2016-02-05</td>\n",
       "      <td>-0.020734</td>\n",
       "      <td>ENB</td>\n",
       "      <td>ENBRIDGE INC</td>\n",
       "      <td>-2.052012</td>\n",
       "      <td>neg</td>\n",
       "    </tr>\n",
       "  </tbody>\n",
       "</table>\n",
       "</div>"
      ],
      "text/plain": [
       "   PERMCO fri_of_week  sum_log_RET_plus1 TICKER        COMNAM  weekly_return  \\\n",
       "0    2381  2016-01-08          -0.045616    ENB  ENBRIDGE INC      -4.459144   \n",
       "1    2381  2016-01-15          -0.045155    ENB  ENBRIDGE INC      -4.415097   \n",
       "2    2381  2016-01-22           0.098574    ENB  ENBRIDGE INC      10.359645   \n",
       "3    2381  2016-01-29           0.033804    ENB  ENBRIDGE INC       3.438143   \n",
       "4    2381  2016-02-05          -0.020734    ENB  ENBRIDGE INC      -2.052012   \n",
       "\n",
       "  weekly_return_sign  \n",
       "0                neg  \n",
       "1                neg  \n",
       "2                pos  \n",
       "3                pos  \n",
       "4                neg  "
      ]
     },
     "execution_count": 51,
     "metadata": {},
     "output_type": "execute_result"
    }
   ],
   "source": [
    "## Add a column of the return sign\n",
    "df4_non_missing['weekly_return_sign'] = np.sign(df4_non_missing['weekly_return'])\n",
    "df4_non_missing['weekly_return_sign'] = df4_non_missing['weekly_return_sign'].apply(lambda x: 'pos' if x > 0 else 'neg')\n",
    "df4_non_missing.head()"
   ]
  },
  {
   "cell_type": "code",
   "execution_count": 52,
   "metadata": {},
   "outputs": [
    {
     "data": {
      "text/html": [
       "<div>\n",
       "<style scoped>\n",
       "    .dataframe tbody tr th:only-of-type {\n",
       "        vertical-align: middle;\n",
       "    }\n",
       "\n",
       "    .dataframe tbody tr th {\n",
       "        vertical-align: top;\n",
       "    }\n",
       "\n",
       "    .dataframe thead th {\n",
       "        text-align: right;\n",
       "    }\n",
       "</style>\n",
       "<table border=\"1\" class=\"dataframe\">\n",
       "  <thead>\n",
       "    <tr style=\"text-align: right;\">\n",
       "      <th></th>\n",
       "      <th>PERMCO</th>\n",
       "      <th>fri_of_week</th>\n",
       "      <th>sum_log_RET_plus1</th>\n",
       "      <th>TICKER</th>\n",
       "      <th>COMNAM</th>\n",
       "      <th>weekly_return</th>\n",
       "      <th>weekly_return_sign</th>\n",
       "    </tr>\n",
       "  </thead>\n",
       "  <tbody>\n",
       "    <tr>\n",
       "      <th>0</th>\n",
       "      <td>2381</td>\n",
       "      <td>2016-01-08</td>\n",
       "      <td>-0.045616</td>\n",
       "      <td>ENB</td>\n",
       "      <td>ENBRIDGE INC</td>\n",
       "      <td>-4.459144</td>\n",
       "      <td>0</td>\n",
       "    </tr>\n",
       "    <tr>\n",
       "      <th>1</th>\n",
       "      <td>2381</td>\n",
       "      <td>2016-01-15</td>\n",
       "      <td>-0.045155</td>\n",
       "      <td>ENB</td>\n",
       "      <td>ENBRIDGE INC</td>\n",
       "      <td>-4.415097</td>\n",
       "      <td>0</td>\n",
       "    </tr>\n",
       "    <tr>\n",
       "      <th>2</th>\n",
       "      <td>2381</td>\n",
       "      <td>2016-01-22</td>\n",
       "      <td>0.098574</td>\n",
       "      <td>ENB</td>\n",
       "      <td>ENBRIDGE INC</td>\n",
       "      <td>10.359645</td>\n",
       "      <td>1</td>\n",
       "    </tr>\n",
       "    <tr>\n",
       "      <th>3</th>\n",
       "      <td>2381</td>\n",
       "      <td>2016-01-29</td>\n",
       "      <td>0.033804</td>\n",
       "      <td>ENB</td>\n",
       "      <td>ENBRIDGE INC</td>\n",
       "      <td>3.438143</td>\n",
       "      <td>1</td>\n",
       "    </tr>\n",
       "    <tr>\n",
       "      <th>4</th>\n",
       "      <td>2381</td>\n",
       "      <td>2016-02-05</td>\n",
       "      <td>-0.020734</td>\n",
       "      <td>ENB</td>\n",
       "      <td>ENBRIDGE INC</td>\n",
       "      <td>-2.052012</td>\n",
       "      <td>0</td>\n",
       "    </tr>\n",
       "  </tbody>\n",
       "</table>\n",
       "</div>"
      ],
      "text/plain": [
       "   PERMCO fri_of_week  sum_log_RET_plus1 TICKER        COMNAM  weekly_return  \\\n",
       "0    2381  2016-01-08          -0.045616    ENB  ENBRIDGE INC      -4.459144   \n",
       "1    2381  2016-01-15          -0.045155    ENB  ENBRIDGE INC      -4.415097   \n",
       "2    2381  2016-01-22           0.098574    ENB  ENBRIDGE INC      10.359645   \n",
       "3    2381  2016-01-29           0.033804    ENB  ENBRIDGE INC       3.438143   \n",
       "4    2381  2016-02-05          -0.020734    ENB  ENBRIDGE INC      -2.052012   \n",
       "\n",
       "   weekly_return_sign  \n",
       "0                   0  \n",
       "1                   0  \n",
       "2                   1  \n",
       "3                   1  \n",
       "4                   0  "
      ]
     },
     "execution_count": 52,
     "metadata": {},
     "output_type": "execute_result"
    }
   ],
   "source": [
    "## Add a column of the return sign\n",
    "df4_non_missing['weekly_return_sign'] = np.sign(df4_non_missing['weekly_return'])\n",
    "df4_non_missing['weekly_return_sign'] = df4_non_missing['weekly_return_sign'].apply(lambda x: 1 if x > 0 else 0)\n",
    "df4_non_missing.head()"
   ]
  },
  {
   "cell_type": "code",
   "execution_count": 53,
   "metadata": {},
   "outputs": [
    {
     "data": {
      "text/html": [
       "<div>\n",
       "<style scoped>\n",
       "    .dataframe tbody tr th:only-of-type {\n",
       "        vertical-align: middle;\n",
       "    }\n",
       "\n",
       "    .dataframe tbody tr th {\n",
       "        vertical-align: top;\n",
       "    }\n",
       "\n",
       "    .dataframe thead th {\n",
       "        text-align: right;\n",
       "    }\n",
       "</style>\n",
       "<table border=\"1\" class=\"dataframe\">\n",
       "  <thead>\n",
       "    <tr style=\"text-align: right;\">\n",
       "      <th></th>\n",
       "      <th>PERMCO</th>\n",
       "    </tr>\n",
       "    <tr>\n",
       "      <th>TICKER</th>\n",
       "      <th></th>\n",
       "    </tr>\n",
       "  </thead>\n",
       "  <tbody>\n",
       "    <tr>\n",
       "      <th>385</th>\n",
       "      <td>1</td>\n",
       "    </tr>\n",
       "    <tr>\n",
       "      <th>417</th>\n",
       "      <td>24</td>\n",
       "    </tr>\n",
       "  </tbody>\n",
       "</table>\n",
       "</div>"
      ],
      "text/plain": [
       "        PERMCO\n",
       "TICKER        \n",
       "385          1\n",
       "417         24"
      ]
     },
     "execution_count": 53,
     "metadata": {},
     "output_type": "execute_result"
    }
   ],
   "source": [
    "df4_non_missing.groupby('PERMCO')['TICKER'].count().reset_index().groupby('TICKER').count()"
   ]
  },
  {
   "cell_type": "code",
   "execution_count": 54,
   "metadata": {},
   "outputs": [],
   "source": [
    "## Sort to ensure proper order\n",
    "df4_non_missing.sort_values(by=['PERMCO', 'fri_of_week'], inplace=True)\n",
    "\n",
    "## Calculate the moving return for each ticker\n",
    "df4_non_missing['previous_weekly_return'] = df4_non_missing.groupby(['PERMCO'])['weekly_return'].shift(1)\n",
    "df4_non_missing['moving_return'] = df4_non_missing['weekly_return'] - df4_non_missing['previous_weekly_return']\n",
    "\n",
    "## Add a column of the moving return direction\n",
    "df4_non_missing['moving_return_dir'] = np.sign(df4_non_missing['moving_return'])\n",
    "df4_non_missing['moving_return_dir'] = df4_non_missing['moving_return_dir'].apply(lambda x: 1 if x > 0 else 0)"
   ]
  },
  {
   "cell_type": "code",
   "execution_count": 55,
   "metadata": {},
   "outputs": [
    {
     "data": {
      "text/html": [
       "<div>\n",
       "<style scoped>\n",
       "    .dataframe tbody tr th:only-of-type {\n",
       "        vertical-align: middle;\n",
       "    }\n",
       "\n",
       "    .dataframe tbody tr th {\n",
       "        vertical-align: top;\n",
       "    }\n",
       "\n",
       "    .dataframe thead th {\n",
       "        text-align: right;\n",
       "    }\n",
       "</style>\n",
       "<table border=\"1\" class=\"dataframe\">\n",
       "  <thead>\n",
       "    <tr style=\"text-align: right;\">\n",
       "      <th></th>\n",
       "      <th>PERMCO</th>\n",
       "    </tr>\n",
       "    <tr>\n",
       "      <th>TICKER</th>\n",
       "      <th></th>\n",
       "    </tr>\n",
       "  </thead>\n",
       "  <tbody>\n",
       "    <tr>\n",
       "      <th>385</th>\n",
       "      <td>1</td>\n",
       "    </tr>\n",
       "    <tr>\n",
       "      <th>417</th>\n",
       "      <td>24</td>\n",
       "    </tr>\n",
       "  </tbody>\n",
       "</table>\n",
       "</div>"
      ],
      "text/plain": [
       "        PERMCO\n",
       "TICKER        \n",
       "385          1\n",
       "417         24"
      ]
     },
     "execution_count": 55,
     "metadata": {},
     "output_type": "execute_result"
    }
   ],
   "source": [
    "df4_non_missing.groupby('PERMCO')['TICKER'].count().reset_index().groupby('TICKER').count()"
   ]
  },
  {
   "cell_type": "code",
   "execution_count": 57,
   "metadata": {},
   "outputs": [],
   "source": [
    "## Calculate adjusted price at the end of the week\n",
    "df5 = df.copy()\n",
    "\n",
    "## Select eow row\n",
    "df5 = df5.sort_values(by=['PERMCO', 'date'], ascending=True).groupby(['PERMCO', 'fri_of_week']).last().reset_index()\n",
    "\n",
    "df5_non_missing = df5.copy()\n",
    "df5_non_missing = df5_non_missing[['PERMCO', 'fri_of_week', 'adjusted_prc']]\n",
    "df5_non_missing = df5_non_missing.rename(columns={'adjusted_prc': 'eow_adjusted_prc'})"
   ]
  },
  {
   "cell_type": "code",
   "execution_count": 58,
   "metadata": {},
   "outputs": [
    {
     "data": {
      "text/html": [
       "<div>\n",
       "<style scoped>\n",
       "    .dataframe tbody tr th:only-of-type {\n",
       "        vertical-align: middle;\n",
       "    }\n",
       "\n",
       "    .dataframe tbody tr th {\n",
       "        vertical-align: top;\n",
       "    }\n",
       "\n",
       "    .dataframe thead th {\n",
       "        text-align: right;\n",
       "    }\n",
       "</style>\n",
       "<table border=\"1\" class=\"dataframe\">\n",
       "  <thead>\n",
       "    <tr style=\"text-align: right;\">\n",
       "      <th></th>\n",
       "      <th>PERMCO</th>\n",
       "    </tr>\n",
       "    <tr>\n",
       "      <th>fri_of_week</th>\n",
       "      <th></th>\n",
       "    </tr>\n",
       "  </thead>\n",
       "  <tbody>\n",
       "    <tr>\n",
       "      <th>385</th>\n",
       "      <td>1</td>\n",
       "    </tr>\n",
       "    <tr>\n",
       "      <th>417</th>\n",
       "      <td>24</td>\n",
       "    </tr>\n",
       "  </tbody>\n",
       "</table>\n",
       "</div>"
      ],
      "text/plain": [
       "             PERMCO\n",
       "fri_of_week        \n",
       "385               1\n",
       "417              24"
      ]
     },
     "execution_count": 58,
     "metadata": {},
     "output_type": "execute_result"
    }
   ],
   "source": [
    "df5_non_missing.groupby('PERMCO')['fri_of_week'].count().reset_index().groupby('fri_of_week').count()"
   ]
  },
  {
   "cell_type": "code",
   "execution_count": 59,
   "metadata": {},
   "outputs": [],
   "source": [
    "df6 = pd.merge(df4_non_missing, df5_non_missing, on=['PERMCO', 'fri_of_week'], how='inner')"
   ]
  },
  {
   "cell_type": "code",
   "execution_count": 60,
   "metadata": {},
   "outputs": [],
   "source": [
    "## Sort to ensure proper order\n",
    "df6.sort_values(by=['PERMCO', 'fri_of_week'], inplace=True)\n",
    "\n",
    "## Calculate the moving return for each ticker\n",
    "df6['previous_eom_adjusted_prc'] = df6.groupby(['PERMCO'])['eow_adjusted_prc'].shift(1)\n",
    "df6['moving_prc'] = df6['eow_adjusted_prc'] - df6['previous_eom_adjusted_prc']\n",
    "\n",
    "## Add a column of the moving return direction\n",
    "df6['moving_prc_dir'] = np.sign(df6['moving_prc'])\n",
    "df6['moving_prc_dir'] = df6['moving_prc_dir'].apply(lambda x: 1 if x > 0 else 0)"
   ]
  },
  {
   "cell_type": "code",
   "execution_count": 61,
   "metadata": {},
   "outputs": [
    {
     "data": {
      "text/html": [
       "<div>\n",
       "<style scoped>\n",
       "    .dataframe tbody tr th:only-of-type {\n",
       "        vertical-align: middle;\n",
       "    }\n",
       "\n",
       "    .dataframe tbody tr th {\n",
       "        vertical-align: top;\n",
       "    }\n",
       "\n",
       "    .dataframe thead th {\n",
       "        text-align: right;\n",
       "    }\n",
       "</style>\n",
       "<table border=\"1\" class=\"dataframe\">\n",
       "  <thead>\n",
       "    <tr style=\"text-align: right;\">\n",
       "      <th></th>\n",
       "      <th>PERMCO</th>\n",
       "    </tr>\n",
       "    <tr>\n",
       "      <th>TICKER</th>\n",
       "      <th></th>\n",
       "    </tr>\n",
       "  </thead>\n",
       "  <tbody>\n",
       "    <tr>\n",
       "      <th>385</th>\n",
       "      <td>1</td>\n",
       "    </tr>\n",
       "    <tr>\n",
       "      <th>417</th>\n",
       "      <td>24</td>\n",
       "    </tr>\n",
       "  </tbody>\n",
       "</table>\n",
       "</div>"
      ],
      "text/plain": [
       "        PERMCO\n",
       "TICKER        \n",
       "385          1\n",
       "417         24"
      ]
     },
     "execution_count": 61,
     "metadata": {},
     "output_type": "execute_result"
    }
   ],
   "source": [
    "df6.groupby('PERMCO')['TICKER'].count().reset_index().groupby('TICKER').count()"
   ]
  },
  {
   "cell_type": "code",
   "execution_count": 62,
   "metadata": {},
   "outputs": [],
   "source": [
    "## Remove data of missing return or moving prc\n",
    "df7 = df6[~df6['moving_return'].isna() & ~df6['moving_prc'].isna()]"
   ]
  },
  {
   "cell_type": "code",
   "execution_count": 63,
   "metadata": {},
   "outputs": [
    {
     "data": {
      "text/plain": [
       "25"
      ]
     },
     "execution_count": 63,
     "metadata": {},
     "output_type": "execute_result"
    }
   ],
   "source": [
    "## Check number of unique PERMCO\n",
    "df7['PERMCO'].nunique()"
   ]
  },
  {
   "cell_type": "code",
   "execution_count": 64,
   "metadata": {},
   "outputs": [
    {
     "data": {
      "text/html": [
       "<div>\n",
       "<style scoped>\n",
       "    .dataframe tbody tr th:only-of-type {\n",
       "        vertical-align: middle;\n",
       "    }\n",
       "\n",
       "    .dataframe tbody tr th {\n",
       "        vertical-align: top;\n",
       "    }\n",
       "\n",
       "    .dataframe thead th {\n",
       "        text-align: right;\n",
       "    }\n",
       "</style>\n",
       "<table border=\"1\" class=\"dataframe\">\n",
       "  <thead>\n",
       "    <tr style=\"text-align: right;\">\n",
       "      <th></th>\n",
       "      <th>PERMCO</th>\n",
       "      <th>fri_of_week</th>\n",
       "      <th>sum_log_RET_plus1</th>\n",
       "      <th>TICKER</th>\n",
       "      <th>COMNAM</th>\n",
       "      <th>weekly_return</th>\n",
       "      <th>weekly_return_sign</th>\n",
       "      <th>previous_weekly_return</th>\n",
       "      <th>moving_return</th>\n",
       "      <th>moving_return_dir</th>\n",
       "      <th>eow_adjusted_prc</th>\n",
       "      <th>previous_eom_adjusted_prc</th>\n",
       "      <th>moving_prc</th>\n",
       "      <th>moving_prc_dir</th>\n",
       "    </tr>\n",
       "  </thead>\n",
       "  <tbody>\n",
       "    <tr>\n",
       "      <th>1</th>\n",
       "      <td>2381</td>\n",
       "      <td>2016-01-15</td>\n",
       "      <td>-0.045155</td>\n",
       "      <td>ENB</td>\n",
       "      <td>ENBRIDGE INC</td>\n",
       "      <td>-4.415097</td>\n",
       "      <td>0</td>\n",
       "      <td>-4.459144</td>\n",
       "      <td>0.044046</td>\n",
       "      <td>1</td>\n",
       "      <td>30.31</td>\n",
       "      <td>31.71</td>\n",
       "      <td>-1.40</td>\n",
       "      <td>0</td>\n",
       "    </tr>\n",
       "    <tr>\n",
       "      <th>2</th>\n",
       "      <td>2381</td>\n",
       "      <td>2016-01-22</td>\n",
       "      <td>0.098574</td>\n",
       "      <td>ENB</td>\n",
       "      <td>ENBRIDGE INC</td>\n",
       "      <td>10.359645</td>\n",
       "      <td>1</td>\n",
       "      <td>-4.415097</td>\n",
       "      <td>14.774742</td>\n",
       "      <td>1</td>\n",
       "      <td>33.45</td>\n",
       "      <td>30.31</td>\n",
       "      <td>3.14</td>\n",
       "      <td>1</td>\n",
       "    </tr>\n",
       "    <tr>\n",
       "      <th>3</th>\n",
       "      <td>2381</td>\n",
       "      <td>2016-01-29</td>\n",
       "      <td>0.033804</td>\n",
       "      <td>ENB</td>\n",
       "      <td>ENBRIDGE INC</td>\n",
       "      <td>3.438143</td>\n",
       "      <td>1</td>\n",
       "      <td>10.359645</td>\n",
       "      <td>-6.921502</td>\n",
       "      <td>0</td>\n",
       "      <td>34.60</td>\n",
       "      <td>33.45</td>\n",
       "      <td>1.15</td>\n",
       "      <td>1</td>\n",
       "    </tr>\n",
       "    <tr>\n",
       "      <th>4</th>\n",
       "      <td>2381</td>\n",
       "      <td>2016-02-05</td>\n",
       "      <td>-0.020734</td>\n",
       "      <td>ENB</td>\n",
       "      <td>ENBRIDGE INC</td>\n",
       "      <td>-2.052012</td>\n",
       "      <td>0</td>\n",
       "      <td>3.438143</td>\n",
       "      <td>-5.490155</td>\n",
       "      <td>0</td>\n",
       "      <td>33.89</td>\n",
       "      <td>34.60</td>\n",
       "      <td>-0.71</td>\n",
       "      <td>0</td>\n",
       "    </tr>\n",
       "    <tr>\n",
       "      <th>5</th>\n",
       "      <td>2381</td>\n",
       "      <td>2016-02-12</td>\n",
       "      <td>-0.048848</td>\n",
       "      <td>ENB</td>\n",
       "      <td>ENBRIDGE INC</td>\n",
       "      <td>-4.767402</td>\n",
       "      <td>0</td>\n",
       "      <td>-2.052012</td>\n",
       "      <td>-2.715390</td>\n",
       "      <td>0</td>\n",
       "      <td>31.88</td>\n",
       "      <td>33.89</td>\n",
       "      <td>-2.01</td>\n",
       "      <td>0</td>\n",
       "    </tr>\n",
       "  </tbody>\n",
       "</table>\n",
       "</div>"
      ],
      "text/plain": [
       "   PERMCO fri_of_week  sum_log_RET_plus1 TICKER        COMNAM  weekly_return  \\\n",
       "1    2381  2016-01-15          -0.045155    ENB  ENBRIDGE INC      -4.415097   \n",
       "2    2381  2016-01-22           0.098574    ENB  ENBRIDGE INC      10.359645   \n",
       "3    2381  2016-01-29           0.033804    ENB  ENBRIDGE INC       3.438143   \n",
       "4    2381  2016-02-05          -0.020734    ENB  ENBRIDGE INC      -2.052012   \n",
       "5    2381  2016-02-12          -0.048848    ENB  ENBRIDGE INC      -4.767402   \n",
       "\n",
       "   weekly_return_sign  previous_weekly_return  moving_return  \\\n",
       "1                   0               -4.459144       0.044046   \n",
       "2                   1               -4.415097      14.774742   \n",
       "3                   1               10.359645      -6.921502   \n",
       "4                   0                3.438143      -5.490155   \n",
       "5                   0               -2.052012      -2.715390   \n",
       "\n",
       "   moving_return_dir  eow_adjusted_prc  previous_eom_adjusted_prc  moving_prc  \\\n",
       "1                  1             30.31                      31.71       -1.40   \n",
       "2                  1             33.45                      30.31        3.14   \n",
       "3                  0             34.60                      33.45        1.15   \n",
       "4                  0             33.89                      34.60       -0.71   \n",
       "5                  0             31.88                      33.89       -2.01   \n",
       "\n",
       "   moving_prc_dir  \n",
       "1               0  \n",
       "2               1  \n",
       "3               1  \n",
       "4               0  \n",
       "5               0  "
      ]
     },
     "execution_count": 64,
     "metadata": {},
     "output_type": "execute_result"
    }
   ],
   "source": [
    "df7.head()"
   ]
  },
  {
   "cell_type": "code",
   "execution_count": 65,
   "metadata": {},
   "outputs": [
    {
     "data": {
      "text/html": [
       "<div>\n",
       "<style scoped>\n",
       "    .dataframe tbody tr th:only-of-type {\n",
       "        vertical-align: middle;\n",
       "    }\n",
       "\n",
       "    .dataframe tbody tr th {\n",
       "        vertical-align: top;\n",
       "    }\n",
       "\n",
       "    .dataframe thead th {\n",
       "        text-align: right;\n",
       "    }\n",
       "</style>\n",
       "<table border=\"1\" class=\"dataframe\">\n",
       "  <thead>\n",
       "    <tr style=\"text-align: right;\">\n",
       "      <th></th>\n",
       "      <th>PERMCO</th>\n",
       "    </tr>\n",
       "    <tr>\n",
       "      <th>TICKER</th>\n",
       "      <th></th>\n",
       "    </tr>\n",
       "  </thead>\n",
       "  <tbody>\n",
       "    <tr>\n",
       "      <th>384</th>\n",
       "      <td>1</td>\n",
       "    </tr>\n",
       "    <tr>\n",
       "      <th>416</th>\n",
       "      <td>24</td>\n",
       "    </tr>\n",
       "  </tbody>\n",
       "</table>\n",
       "</div>"
      ],
      "text/plain": [
       "        PERMCO\n",
       "TICKER        \n",
       "384          1\n",
       "416         24"
      ]
     },
     "execution_count": 65,
     "metadata": {},
     "output_type": "execute_result"
    }
   ],
   "source": [
    "df7.groupby('PERMCO')['TICKER'].count().reset_index().groupby('TICKER').count()"
   ]
  },
  {
   "cell_type": "code",
   "execution_count": 66,
   "metadata": {},
   "outputs": [],
   "source": [
    "## Save preprocessed data to csbv\n",
    "df7.to_csv('./test_period_v6_preprocessed_top25_14Jun24.csv', index=False)"
   ]
  },
  {
   "cell_type": "code",
   "execution_count": 67,
   "metadata": {},
   "outputs": [
    {
     "data": {
      "text/plain": [
       "Index(['PERMCO', 'fri_of_week', 'sum_log_RET_plus1', 'TICKER', 'COMNAM',\n",
       "       'weekly_return', 'weekly_return_sign', 'previous_weekly_return',\n",
       "       'moving_return', 'moving_return_dir', 'eow_adjusted_prc',\n",
       "       'previous_eom_adjusted_prc', 'moving_prc', 'moving_prc_dir'],\n",
       "      dtype='object')"
      ]
     },
     "execution_count": 67,
     "metadata": {},
     "output_type": "execute_result"
    }
   ],
   "source": [
    "## Check available columns for future use\n",
    "df7.columns"
   ]
  },
  {
   "cell_type": "code",
   "execution_count": 68,
   "metadata": {},
   "outputs": [
    {
     "data": {
      "text/html": [
       "<div>\n",
       "<style scoped>\n",
       "    .dataframe tbody tr th:only-of-type {\n",
       "        vertical-align: middle;\n",
       "    }\n",
       "\n",
       "    .dataframe tbody tr th {\n",
       "        vertical-align: top;\n",
       "    }\n",
       "\n",
       "    .dataframe thead th {\n",
       "        text-align: right;\n",
       "    }\n",
       "</style>\n",
       "<table border=\"1\" class=\"dataframe\">\n",
       "  <thead>\n",
       "    <tr style=\"text-align: right;\">\n",
       "      <th></th>\n",
       "      <th>PERMCO</th>\n",
       "    </tr>\n",
       "    <tr>\n",
       "      <th>fri_of_week</th>\n",
       "      <th></th>\n",
       "    </tr>\n",
       "  </thead>\n",
       "  <tbody>\n",
       "    <tr>\n",
       "      <th>384</th>\n",
       "      <td>1</td>\n",
       "    </tr>\n",
       "    <tr>\n",
       "      <th>416</th>\n",
       "      <td>24</td>\n",
       "    </tr>\n",
       "  </tbody>\n",
       "</table>\n",
       "</div>"
      ],
      "text/plain": [
       "             PERMCO\n",
       "fri_of_week        \n",
       "384               1\n",
       "416              24"
      ]
     },
     "execution_count": 68,
     "metadata": {},
     "output_type": "execute_result"
    }
   ],
   "source": [
    "## Check the number of weeks of each stock\n",
    "df7.groupby('PERMCO')['fri_of_week'].count().reset_index().groupby('fri_of_week').count()"
   ]
  },
  {
   "cell_type": "code",
   "execution_count": 69,
   "metadata": {},
   "outputs": [
    {
     "data": {
      "text/html": [
       "<div>\n",
       "<style scoped>\n",
       "    .dataframe tbody tr th:only-of-type {\n",
       "        vertical-align: middle;\n",
       "    }\n",
       "\n",
       "    .dataframe tbody tr th {\n",
       "        vertical-align: top;\n",
       "    }\n",
       "\n",
       "    .dataframe thead th {\n",
       "        text-align: right;\n",
       "    }\n",
       "</style>\n",
       "<table border=\"1\" class=\"dataframe\">\n",
       "  <thead>\n",
       "    <tr style=\"text-align: right;\">\n",
       "      <th></th>\n",
       "      <th>TICKER</th>\n",
       "      <th>COMNAM</th>\n",
       "      <th>PERMCO</th>\n",
       "    </tr>\n",
       "  </thead>\n",
       "  <tbody>\n",
       "    <tr>\n",
       "      <th>1</th>\n",
       "      <td>ENB</td>\n",
       "      <td>ENBRIDGE INC</td>\n",
       "      <td>2381</td>\n",
       "    </tr>\n",
       "    <tr>\n",
       "      <th>418</th>\n",
       "      <td>CHK</td>\n",
       "      <td>CHESAPEAKE ENERGY CORP</td>\n",
       "      <td>11937</td>\n",
       "    </tr>\n",
       "    <tr>\n",
       "      <th>803</th>\n",
       "      <td>HES</td>\n",
       "      <td>HESS CORP</td>\n",
       "      <td>20064</td>\n",
       "    </tr>\n",
       "    <tr>\n",
       "      <th>1220</th>\n",
       "      <td>BHI</td>\n",
       "      <td>BAKER HUGHES INC</td>\n",
       "      <td>20253</td>\n",
       "    </tr>\n",
       "    <tr>\n",
       "      <th>1297</th>\n",
       "      <td>BHI</td>\n",
       "      <td>BAKER HUGHES INC NEW</td>\n",
       "      <td>20253</td>\n",
       "    </tr>\n",
       "    <tr>\n",
       "      <th>1298</th>\n",
       "      <td>BHGE</td>\n",
       "      <td>BAKER HUGHES INC NEW</td>\n",
       "      <td>20253</td>\n",
       "    </tr>\n",
       "    <tr>\n",
       "      <th>1416</th>\n",
       "      <td>BKR</td>\n",
       "      <td>BAKER HUGHES INC NEW</td>\n",
       "      <td>20253</td>\n",
       "    </tr>\n",
       "    <tr>\n",
       "      <th>1417</th>\n",
       "      <td>BKR</td>\n",
       "      <td>BAKER HUGHES CO</td>\n",
       "      <td>20253</td>\n",
       "    </tr>\n",
       "    <tr>\n",
       "      <th>1637</th>\n",
       "      <td>BP</td>\n",
       "      <td>B P PLC</td>\n",
       "      <td>20333</td>\n",
       "    </tr>\n",
       "    <tr>\n",
       "      <th>2054</th>\n",
       "      <td>CVX</td>\n",
       "      <td>CHEVRON CORP NEW</td>\n",
       "      <td>20440</td>\n",
       "    </tr>\n",
       "    <tr>\n",
       "      <th>2471</th>\n",
       "      <td>XOM</td>\n",
       "      <td>EXXON MOBIL CORP</td>\n",
       "      <td>20678</td>\n",
       "    </tr>\n",
       "    <tr>\n",
       "      <th>2888</th>\n",
       "      <td>HAL</td>\n",
       "      <td>HALLIBURTON CO</td>\n",
       "      <td>20868</td>\n",
       "    </tr>\n",
       "    <tr>\n",
       "      <th>3305</th>\n",
       "      <td>IMO</td>\n",
       "      <td>IMPERIAL OIL LTD</td>\n",
       "      <td>20972</td>\n",
       "    </tr>\n",
       "    <tr>\n",
       "      <th>3722</th>\n",
       "      <td>OXY</td>\n",
       "      <td>OCCIDENTAL PETROLEUM CORP</td>\n",
       "      <td>21322</td>\n",
       "    </tr>\n",
       "    <tr>\n",
       "      <th>4139</th>\n",
       "      <td>COP</td>\n",
       "      <td>CONOCOPHILLIPS</td>\n",
       "      <td>21401</td>\n",
       "    </tr>\n",
       "    <tr>\n",
       "      <th>4556</th>\n",
       "      <td>SLB</td>\n",
       "      <td>SCHLUMBERGER LTD</td>\n",
       "      <td>21576</td>\n",
       "    </tr>\n",
       "    <tr>\n",
       "      <th>5146</th>\n",
       "      <td>TRP</td>\n",
       "      <td>T C ENERGY CORP</td>\n",
       "      <td>21771</td>\n",
       "    </tr>\n",
       "    <tr>\n",
       "      <th>4973</th>\n",
       "      <td>TRP</td>\n",
       "      <td>TRANSCANADA CORP</td>\n",
       "      <td>21771</td>\n",
       "    </tr>\n",
       "    <tr>\n",
       "      <th>5390</th>\n",
       "      <td>MRO</td>\n",
       "      <td>MARATHON OIL CORP</td>\n",
       "      <td>21795</td>\n",
       "    </tr>\n",
       "    <tr>\n",
       "      <th>5807</th>\n",
       "      <td>EOG</td>\n",
       "      <td>EOG RESOURCES INC</td>\n",
       "      <td>22113</td>\n",
       "    </tr>\n",
       "    <tr>\n",
       "      <th>6224</th>\n",
       "      <td>COG</td>\n",
       "      <td>CABOT OIL &amp; GAS CORP</td>\n",
       "      <td>26024</td>\n",
       "    </tr>\n",
       "    <tr>\n",
       "      <th>6523</th>\n",
       "      <td>CTRA</td>\n",
       "      <td>COTERRA ENERGY INC</td>\n",
       "      <td>26024</td>\n",
       "    </tr>\n",
       "    <tr>\n",
       "      <th>6641</th>\n",
       "      <td>TOT</td>\n",
       "      <td>TOTAL S A</td>\n",
       "      <td>29122</td>\n",
       "    </tr>\n",
       "    <tr>\n",
       "      <th>6879</th>\n",
       "      <td>TOT</td>\n",
       "      <td>TOTAL S E</td>\n",
       "      <td>29122</td>\n",
       "    </tr>\n",
       "    <tr>\n",
       "      <th>6924</th>\n",
       "      <td>TTE</td>\n",
       "      <td>TOTALENERGIES S E</td>\n",
       "      <td>29122</td>\n",
       "    </tr>\n",
       "    <tr>\n",
       "      <th>7058</th>\n",
       "      <td>SU</td>\n",
       "      <td>SUNCOR ENERGY INC NEW</td>\n",
       "      <td>29139</td>\n",
       "    </tr>\n",
       "    <tr>\n",
       "      <th>7475</th>\n",
       "      <td>CCJ</td>\n",
       "      <td>CAMECO CORP</td>\n",
       "      <td>29634</td>\n",
       "    </tr>\n",
       "    <tr>\n",
       "      <th>7892</th>\n",
       "      <td>EPD</td>\n",
       "      <td>ENTERPRISE PRODUCTS PARTNERS LP</td>\n",
       "      <td>34829</td>\n",
       "    </tr>\n",
       "    <tr>\n",
       "      <th>8309</th>\n",
       "      <td>PAA</td>\n",
       "      <td>PLAINS ALL AMERN PIPELINE L P</td>\n",
       "      <td>34920</td>\n",
       "    </tr>\n",
       "    <tr>\n",
       "      <th>8726</th>\n",
       "      <td>DVN</td>\n",
       "      <td>DEVON ENERGY CORP NEW</td>\n",
       "      <td>35222</td>\n",
       "    </tr>\n",
       "    <tr>\n",
       "      <th>9143</th>\n",
       "      <td>CNQ</td>\n",
       "      <td>CANADIAN NATURAL RESOURCES LTD</td>\n",
       "      <td>37900</td>\n",
       "    </tr>\n",
       "    <tr>\n",
       "      <th>9560</th>\n",
       "      <td>PBR</td>\n",
       "      <td>PETROLEO BRASILEIRO SA PETROBRAS</td>\n",
       "      <td>38393</td>\n",
       "    </tr>\n",
       "    <tr>\n",
       "      <th>9977</th>\n",
       "      <td>ECA</td>\n",
       "      <td>ENCANA CORP</td>\n",
       "      <td>42001</td>\n",
       "    </tr>\n",
       "    <tr>\n",
       "      <th>10188</th>\n",
       "      <td>OVV</td>\n",
       "      <td>OVINTIV INC</td>\n",
       "      <td>42001</td>\n",
       "    </tr>\n",
       "  </tbody>\n",
       "</table>\n",
       "</div>"
      ],
      "text/plain": [
       "      TICKER                            COMNAM  PERMCO\n",
       "1        ENB                      ENBRIDGE INC    2381\n",
       "418      CHK            CHESAPEAKE ENERGY CORP   11937\n",
       "803      HES                         HESS CORP   20064\n",
       "1220     BHI                  BAKER HUGHES INC   20253\n",
       "1297     BHI              BAKER HUGHES INC NEW   20253\n",
       "1298    BHGE              BAKER HUGHES INC NEW   20253\n",
       "1416     BKR              BAKER HUGHES INC NEW   20253\n",
       "1417     BKR                   BAKER HUGHES CO   20253\n",
       "1637      BP                           B P PLC   20333\n",
       "2054     CVX                  CHEVRON CORP NEW   20440\n",
       "2471     XOM                  EXXON MOBIL CORP   20678\n",
       "2888     HAL                    HALLIBURTON CO   20868\n",
       "3305     IMO                  IMPERIAL OIL LTD   20972\n",
       "3722     OXY         OCCIDENTAL PETROLEUM CORP   21322\n",
       "4139     COP                    CONOCOPHILLIPS   21401\n",
       "4556     SLB                  SCHLUMBERGER LTD   21576\n",
       "5146     TRP                   T C ENERGY CORP   21771\n",
       "4973     TRP                  TRANSCANADA CORP   21771\n",
       "5390     MRO                 MARATHON OIL CORP   21795\n",
       "5807     EOG                 EOG RESOURCES INC   22113\n",
       "6224     COG              CABOT OIL & GAS CORP   26024\n",
       "6523    CTRA                COTERRA ENERGY INC   26024\n",
       "6641     TOT                         TOTAL S A   29122\n",
       "6879     TOT                         TOTAL S E   29122\n",
       "6924     TTE                 TOTALENERGIES S E   29122\n",
       "7058      SU             SUNCOR ENERGY INC NEW   29139\n",
       "7475     CCJ                       CAMECO CORP   29634\n",
       "7892     EPD   ENTERPRISE PRODUCTS PARTNERS LP   34829\n",
       "8309     PAA     PLAINS ALL AMERN PIPELINE L P   34920\n",
       "8726     DVN             DEVON ENERGY CORP NEW   35222\n",
       "9143     CNQ    CANADIAN NATURAL RESOURCES LTD   37900\n",
       "9560     PBR  PETROLEO BRASILEIRO SA PETROBRAS   38393\n",
       "9977     ECA                       ENCANA CORP   42001\n",
       "10188    OVV                       OVINTIV INC   42001"
      ]
     },
     "execution_count": 69,
     "metadata": {},
     "output_type": "execute_result"
    }
   ],
   "source": [
    "## Check the info of each stock\n",
    "df7[['TICKER', 'COMNAM', 'PERMCO']].drop_duplicates().sort_values(by=['PERMCO'])"
   ]
  }
 ],
 "metadata": {
  "kernelspec": {
   "display_name": "Python 3",
   "language": "python",
   "name": "python3"
  },
  "language_info": {
   "codemirror_mode": {
    "name": "ipython",
    "version": 3
   },
   "file_extension": ".py",
   "mimetype": "text/x-python",
   "name": "python",
   "nbconvert_exporter": "python",
   "pygments_lexer": "ipython3",
   "version": "3.11.9"
  }
 },
 "nbformat": 4,
 "nbformat_minor": 2
}
